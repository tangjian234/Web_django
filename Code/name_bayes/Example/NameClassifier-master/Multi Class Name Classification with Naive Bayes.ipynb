{
 "cells": [
  {
   "cell_type": "markdown",
   "metadata": {},
   "source": [
    "# Name Classification with Naive Bayes\n",
    "\n",
    "## Overview\n",
    "\n",
    "Focus of this project is to build a python module, that can determine where a person is from, based on their name string. \n",
    "Final product is a class file containing `NameClassifier` class, capable of \n",
    "- loading & preprocessing train and test data\n",
    "- train the model\n",
    "- predict and evaluate the model\n",
    "- save & load trained model for future use\n",
    "\n",
    "The data of name strings with various origin from the world was obtained by using [Faker](https://faker.readthedocs.io/en/latest/index.html) library in python. 100000 fake names were created for each class for training and testing purposes. \n",
    "\n",
    "## Libraries / Dependencies\n",
    "\n",
    "Couple python libraries were used to build this class\n",
    "- [scikit-learn](https://scikit-learn.org/stable/): model building and training\n",
    "- [pandas](https://pandas.pydata.org/): data cleaning and preprocessing\n",
    "- [pickle](https://docs.python.org/3/library/pickle.html#module-pickle): model persistance\n",
    "- [Faker](https://faker.readthedocs.io/en/master/): fake data generation\n",
    "\n",
    "In order to use the class, these libraries and their dependencies need to be installed on your system.\n",
    "\n",
    "## Setup and Locations\n",
    "\n",
    "This class is only tested on Ubuntu Linux 18.04 version, and can be used by importing the class. The class file `model.py` needs to be located in the directory where you intend to use it. Data and saved model file can be located anywhere, as long as you have relative path to them from the class file. However generally it's good idea to keep everything within same or its child's directory. \n",
    "\n",
    "Now the basics are all out of the way, let's get started!\n",
    "\n",
    "## Taking a look at data\n",
    "\n",
    "This module load in the name data as csv file using pandas. You should have separate csv files, each for Japanese and non-Japanese names. \n",
    "\n",
    "In a file, this would look like\n",
    "\n",
    ">code, Address, name, other col..<br>\n",
    ", value2, John Smith, value4\n",
    "\n",
    "**As long as there is a column named `name` with the name data, other columns can also be present.<br> \n",
    "There should always be a white space between first and last name, since the model breaks down into first and last name, and analyze them.**\n",
    "\n",
    "For example, using dataframe, the data might look like"
   ]
  },
  {
   "cell_type": "code",
   "execution_count": 2,
   "metadata": {},
   "outputs": [
    {
     "name": "stdout",
     "output_type": "stream",
     "text": [
      "Name data:\n",
      "                           code                             name\n",
      "92697          Chinese (China)                             朱 兰英\n",
      "55523                Norwegian                   Janne Mathisen\n",
      "85941                 Japanese                            野村 智也\n",
      "13704  English (United States)                    Hannah Bishop\n",
      "46730                   Korean                             김 건우\n",
      "92050          Chinese (China)                             张 秀梅\n",
      "45379                   Korean                             오 지우\n",
      "82946                 Japanese                            田中 篤司\n",
      "15073  English (United States)                     Stephen Bell\n",
      "76540                  Russian  Виноградов Серафим Вячеславович\n"
     ]
    }
   ],
   "source": [
    "import pandas as pd\n",
    "names = pd.read_csv('data/multi_class.csv')\n",
    "\n",
    "print('Name data:\\n', names.sample(10))"
   ]
  },
  {
   "cell_type": "markdown",
   "metadata": {},
   "source": [
    "## Preprocessing\n",
    "\n",
    "Preprocessing of data is one of the most important aspect of machine learing. It can boost or ruin the models' performance. \n",
    "Here, since we're dealing with text data, it needs to be encoded into numbers. \n",
    "\n",
    "### Spliting Dataset\n",
    "The dataset is splitted into train and test datasets, for model training and testing.\n",
    "Default ratio is set to \n",
    "> train : test = 70% : 30%\n",
    "\n",
    "This ratio can be modified if necessary.\n",
    "\n",
    "### Label Encoding\n",
    "\n",
    "Since the each labels are countrys' name strings, these need to be encoded into integers. Here we are experimenting with 10 countries, so each countries will be mapped into integers between 0~10.\n",
    "\n",
    "We use `NameClassifier.load_data()` method to load the data and split them into 2 dataset like this...\n",
    "\n",
    "\n",
    "\n"
   ]
  },
  {
   "cell_type": "code",
   "execution_count": 3,
   "metadata": {},
   "outputs": [
    {
     "name": "stdout",
     "output_type": "stream",
     "text": [
      "name data type:<class 'pandas.core.series.Series'>\n",
      "75432       Соловьева София Робертовна\n",
      "17901                     Michael Page\n",
      "77792    Корнилова Нинель Владимировна\n",
      "47487                             이 현준\n",
      "54773                   Monica Eriksen\n",
      "45411                             이 영철\n",
      "40705                             조 지아\n",
      "17874                      Emily Moore\n",
      "70749     Самойлов Аристарх Арсеньевич\n",
      "78297     Потапов Мечислав Владленович\n",
      "Name: name, dtype: object\n",
      "\n",
      "Labels: [1. 0. 0. ... 5. 0. 4.], type:<class 'numpy.ndarray'>\n"
     ]
    }
   ],
   "source": [
    "## import the class\n",
    "from model import NameClassifier\n",
    "\n",
    "clf = NameClassifier()\n",
    "xtrain, xtest, ytrain, ytest = clf.load_data('data/multi_class.csv')\n",
    "print('name data type:{}\\n{}'.format(type(xtrain), xtrain.sample(10)))\n",
    "print('\\nLabels: {}, type:{}'.format(ytrain, type(ytrain)))"
   ]
  },
  {
   "cell_type": "markdown",
   "metadata": {},
   "source": [
    "## Bag of Words Model\n",
    "In this simple technique, each word that appears in the dataset are assigned with unique number, so that each text can be expressed as a sequence of the numbers.\n",
    "The sequences are converted into vector with each position / index representing each word, and value expressing the frequency of the occurence of the word.\n",
    "\n",
    "<br>\n",
    "Specifically in this class, word count is utilized with scikit-learn's `CountVectorizer`. \n",
    "\n",
    "<br>\n",
    "The data will be encoded into numpy sparse matrix, and is ready to be fed into the Naive Bayes model\n",
    "<br>\n",
    "\n",
    "Also, this class is implemented using Naive Bayes algorithm, using `Sklearn.naive_bayes.MultinomialNB` class.\n",
    "\n",
    "Encoding names with word count and traning naive bayes are done in `NameClassifer.train()` method, lile...\n",
    "\n"
   ]
  },
  {
   "cell_type": "code",
   "execution_count": 4,
   "metadata": {},
   "outputs": [
    {
     "name": "stdout",
     "output_type": "stream",
     "text": [
      "Fitting the vectorizer and training the model...\n",
      "training completed!\n"
     ]
    }
   ],
   "source": [
    "# then start training with the training data\n",
    "clf.train(xtrain, ytrain)"
   ]
  },
  {
   "cell_type": "markdown",
   "metadata": {},
   "source": [
    "## Evaluation Metrics\n",
    "\n",
    "Model evaluation was done by testset, with 3 metrics.\n",
    "### accuracy\n",
    "how many data points did the model correclty predicted, regardless of class\n",
    "\n",
    "$$acc = \\frac{TP + TN}{Total Data}$$\n",
    "\n",
    "### Confusion Matrix\n",
    "\n",
    "Confusion matrix visualizes how a model predicts predicts data on each to which class.\n",
    "You can gain information about which classes are hard to predict, as well as how the model is 'confused' to classify certain class.\n",
    "\n",
    "This module equipped with confusion matrix and evaluation method. "
   ]
  },
  {
   "cell_type": "code",
   "execution_count": 5,
   "metadata": {},
   "outputs": [
    {
     "name": "stdout",
     "output_type": "stream",
     "text": [
      "accuracy: 82.98666666666666%\n"
     ]
    },
    {
     "data": {
      "image/png": "[encoded data removed]",
      "text/plain": [
       "<Figure size 720x576 with 2 Axes>"
      ]
     },
     "metadata": {
      "needs_background": "light"
     },
     "output_type": "display_data"
    }
   ],
   "source": [
    "# Getting the accuracy with test data first.\n",
    "metrics = clf.evaluate(xtest, ytest)\n",
    "print('accuracy: {}%'.format(metrics*100))\n",
    "\n",
    "# now plot a confusion matrix\n",
    "pred = clf.predict(xtest)\n",
    "clf.plot_confusion(ytest, pred)"
   ]
  },
  {
   "cell_type": "markdown",
   "metadata": {},
   "source": [
    "From the matrix, we can see few things, such as ..\n",
    "- Arabic and English names are confusing to distinguish \n",
    "- It can predict Norwegian name as it is, but somehow classify some Chinese name as Norwagian.(why?? lol)\n",
    "- Other than that, model is performing pretty okay.\n",
    "\n",
    "Now Let's take a look at the trianing data for English and Egyptian names."
   ]
  },
  {
   "cell_type": "code",
   "execution_count": 6,
   "metadata": {},
   "outputs": [
    {
     "name": "stdout",
     "output_type": "stream",
     "text": [
      "Egyptian:\n",
      "              code              name\n",
      "0  Arabic (Egypt)       Adam Rogers\n",
      "1  Arabic (Egypt)     Sandra Garcia\n",
      "2  Arabic (Egypt)  Anthony Mcdonald\n",
      "3  Arabic (Egypt)      Jordan Cohen\n",
      "4  Arabic (Egypt)       Cody Wilson\n",
      "\n",
      "American:\n",
      "                           code           name\n",
      "10000  English (United States)   Ashley Scott\n",
      "10001  English (United States)    Betty Smith\n",
      "10002  English (United States)   Dylan Harris\n",
      "10003  English (United States)  Andrew Vargas\n",
      "10004  English (United States)  Jillian Lewis\n"
     ]
    }
   ],
   "source": [
    "## Peek into the training data\n",
    "df = pd.read_csv('data/multi_class.csv')\n",
    "Eg, US = df['code'].unique()[0], df['code'].unique()[1]\n",
    "print('Egyptian:\\n', df[df['code'] == Eg].head(5))\n",
    "print('\\nAmerican:\\n', df[df['code'] == US].head(5))"
   ]
  },
  {
   "cell_type": "markdown",
   "metadata": {},
   "source": [
    "You can see that they're very similar, or almost identical. "
   ]
  },
  {
   "cell_type": "markdown",
   "metadata": {},
   "source": [
    "## Prediction\n",
    "\n",
    "Now let us predict some fake names, using the trained model. This can be done through `NameClassifier.predict()` method, and it accept python list of name strings. <br>\n",
    "Let's take a look."
   ]
  },
  {
   "cell_type": "code",
   "execution_count": 7,
   "metadata": {},
   "outputs": [
    {
     "name": "stdout",
     "output_type": "stream",
     "text": [
      "['Japanese' 'Japanese' 'English (United States)' 'Arabic (Egypt)'\n",
      " 'Russian']\n"
     ]
    }
   ],
   "source": [
    "some_names = ['渡辺　謙', '木村　拓哉', 'Jack Nicholson', 'John Smith', ' 陳　港生']\n",
    "# Only the first 2 are Japanese name, so output should look like [1,1,0,0]\n",
    "pred = clf.predict(some_names, label_str=True)\n",
    "print(pred)"
   ]
  },
  {
   "cell_type": "markdown",
   "metadata": {},
   "source": [
    "Looks like it's having trouble with Chinese characters there!\n",
    "\n",
    "\n",
    "### What about unseen names?\n",
    "\n",
    "\n",
    "Here, let's try to predict with names that were not existing in the training dataset, such as\n",
    "- unseen last / first names\n",
    "- Japanese Names in roman\n",
    "- non-Japanese names in Katakana"
   ]
  },
  {
   "cell_type": "code",
   "execution_count": 8,
   "metadata": {},
   "outputs": [
    {
     "name": "stdout",
     "output_type": "stream",
     "text": [
      "False\n",
      "False\n",
      "\n",
      "So the name 安倍　晋三 is was not present in the training set.        \n",
      "Let us try along with Katakana name.\n",
      "['安倍 晋三', 'ジェニファー ローレンス', 'Jennifer Lawrence'] \n",
      " ['Russian' 'Russian' 'Arabic (Egypt)']\n"
     ]
    }
   ],
   "source": [
    "# First we'll get word_dictionary that are based on model's training data\n",
    "# in order to check if Japanese prime minister's name is on the training data. \n",
    "trained_dict = clf.get_word_dict()\n",
    "print('安倍' in trained_dict.keys())\n",
    "print('晋三' in trained_dict.keys())\n",
    "unicode = '\\u3000'\n",
    "print('\\nSo the name 安倍　晋三 is was not present in the training set.\\\n",
    "        \\nLet us try along with Katakana name.')\n",
    "names = ['安倍　晋三'.replace(unicode, ' '), 'ジェニファー　ローレンス'.replace(unicode, ' '), \\\n",
    "         'Jennifer Lawrence']\n",
    "pred_anom = clf.predict(names, label_str=True)\n",
    "print(names, \"\\n\", pred_anom)"
   ]
  },
  {
   "cell_type": "markdown",
   "metadata": {},
   "source": [
    "As you can see, model fails to classify Japanese name, American and American name in Japanese Katakana letters.\n",
    "\n",
    "Possible improvement would be to \n",
    "- add more varieties to the training data\n",
    "- different ML algorithm\n",
    "\n",
    "## Saving and Loading the Model\n",
    "\n",
    "- Saving the trained model is easy, just use `NameClassifier.save_model()`\n",
    "- Loading can be done by `NameClassifier.load_model()`\n",
    "\n",
    "Both methods accept `path/to/modelFile/fileName.pickle` as argument."
   ]
  },
  {
   "cell_type": "code",
   "execution_count": 34,
   "metadata": {},
   "outputs": [
    {
     "name": "stdout",
     "output_type": "stream",
     "text": [
      "loading the model\n",
      "<class 'model.NameClassifier'>\n"
     ]
    }
   ],
   "source": [
    "clf.save_model('saved_model.pickle')\n",
    "trained_model = NameClassifier.load_model('saved_model.pickle')\n",
    "print(type(trained_model))"
   ]
  }
 ],
 "metadata": {
  "kernelspec": {
   "display_name": "Python 3",
   "language": "python",
   "name": "python3"
  },
  "language_info": {
   "codemirror_mode": {
    "name": "ipython",
    "version": 3
   },
   "file_extension": ".py",
   "mimetype": "text/x-python",
   "name": "python",
   "nbconvert_exporter": "python",
   "pygments_lexer": "ipython3",
   "version": "3.7.3"
  }
 },
 "nbformat": 4,
 "nbformat_minor": 2
}
