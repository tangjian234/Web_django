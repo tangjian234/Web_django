{
 "cells": [
  {
   "cell_type": "markdown",
   "metadata": {},
   "source": [
    "# NameClassifier　チュートリアル\n",
    "\n",
    "このノートでは、NameClassifierモジュールの基本的な使い方を説明していきます。\n",
    "NameClassifierモジュールはpythonのクラスファイルで、個人の名前に基づき日本人か外国人かを判断します。このバージョンではベイズ分類器とBag of Wordsモデルが用いられています。<br>\n",
    "ここでは\n",
    "- データを読み込み、学習用とテスト用に分ける \n",
    "- データをベクトル化し、モデルに学習させる\n",
    "- テスト用データでモデルを評価、また新しいデータで予測してみる\n",
    "- 学習後のモデルを保存する\n",
    "- 学習済みのモデルを読み込んで使う\n",
    "\n",
    "ことを学んでいきましょう。\n",
    "\n",
    "## 必要なライブラリ\n",
    "このモジュールはいくつかのPythonライブラリを使用しており、使う前にこれらがインストールされていることを確認してください。\n",
    "\n",
    "- [scikit learn](https://scikit-learn.org/stable/)\n",
    "- [pandas](https://pandas.pydata.org/)\n",
    "- [pickle](https://docs.python.org/3/library/pickle.html)\n",
    "\n",
    "また上のライブラリが依存しているパッケージもインストールしておいてください。\n",
    "\n",
    "## セットアップ\n",
    "ライブラリがインストールされていれば、あとは`model.py`を使うダイレクトリにおいて置くだけで他のスクリプトから呼び出したりして使用可能です。\n",
    "また学習データや保存したモデルを読み込んで使う場合は同じダイレクトリ内に入れておいたほうが良いでしょう。\n",
    "このチュートリアルでは、\n",
    "- プロジェクトフォルダ\n",
    "    - model.py: クラスファイル\n",
    "    - data: データフォルダ\n",
    "        - jp_names.cvs: 日本名データ\n",
    "        - f_names.csv: 外国名データ\n",
    "    - model: 学習モデルフォルダ\n",
    "\n",
    "というフォルダ構造を前提としています。\n",
    "それでは始めましょう！\n",
    "\n",
    "## データを読み込む\n",
    "ここではCSVファイルからデータを読み込み、そしてデータを任意の割合で学習用とテスト用に分割します。\n",
    "データはCSV形式で、下のようなフォーマットの必要があります。\n",
    "\n",
    "\n",
    ">カラム１, 住所, name, 他のカラムなど..<br>\n",
    "value1, value2, 鈴木　一郎, value4<br>\n",
    "value1, value2, 鈴木　二郎, value4\n",
    "\n",
    "最初の行にカラム名があり、下にデータが続いています。カラム名は名前のデータだけ'name'であれば他のカラムは影響ありません。また名前は国籍に関わらず姓名の間がスペースで区切られている必要があります。\n",
    "それでは`load_data()`メソッドを用いてデータを読み込みます。"
   ]
  },
  {
   "cell_type": "code",
   "execution_count": 13,
   "metadata": {},
   "outputs": [
    {
     "name": "stdout",
     "output_type": "stream",
     "text": [
      "名前データ　 type:<class 'pandas.core.series.Series'>\n",
      "98583           樊 柏翰\n",
      "47855          高橋 翔太\n",
      "94555         中津川 七夏\n",
      "72841    Aneta Dobre\n",
      "57767           坂本 零\n",
      "15022           渚 七夏\n",
      "32917          井高 英樹\n",
      "25096         近藤 裕美子\n",
      "95669           宮沢 淳\n",
      "25372           近藤 淳\n",
      "Name: name, dtype: object\n",
      "\n",
      "ラベル: 　[0 1 0 ... 1 1 0], type: <class 'numpy.ndarray'>\n"
     ]
    }
   ],
   "source": [
    "## モジュールをインポート\n",
    "from model import NameClassifier\n",
    "\n",
    "# このメソッドは x_train, x_test, y_train, y_test をこの順番で返します。\n",
    "x_train, x_test, y_train, y_test = NameClassifier.load_data('data/jp_names.csv', 'data/f_names.csv', test_size=0.4)\n",
    "\n",
    "print('名前データ　 type:{}\\n{}'.format(type(x_train), x_train.sample(10)))\n",
    "print('\\nラベル: 　{}, type: {}'.format(y_train, type(y_train)))"
   ]
  },
  {
   "cell_type": "markdown",
   "metadata": {},
   "source": [
    "このメソッド`.load_data(jp_names, f_names, test_size)`は\n",
    "\n",
    "- x_train: 学習用名前データ \n",
    "- x_test:　テスト用名前データ\n",
    "- y_train:　学習用ラベル\n",
    "- y_test:　テスト用ラベル\n",
    "\n",
    "を返し、名前データはPandasのSeriesタイプで、ラベルデータはNumpyのndarrayタイプです。\n",
    "- `test_size`でテスト用データの割合を0~1の間の小数で指定できます。\n",
    "- `jp_names`, `f_names`はそれぞれ日本名と外国名のデータファイルへのパスとファイル名です。"
   ]
  },
  {
   "cell_type": "markdown",
   "metadata": {},
   "source": [
    "## 学習！\n",
    "\n",
    "それでは準備が出来たところでモデルに学習させてみましょう。まずはNameClassifierクラスのインスタンスを作成し、\n",
    "そこに先程の学習用データを入力します。\n",
    "\n",
    "`.train(x_train, y_train)`メソッドを使用します。\n",
    "- `x_train`:学習用名前データ\n",
    "- `y_train`:学習用ラベルデータ"
   ]
  },
  {
   "cell_type": "code",
   "execution_count": 7,
   "metadata": {},
   "outputs": [
    {
     "name": "stdout",
     "output_type": "stream",
     "text": [
      "Fitting the vectorizer and training the model...\n",
      "training completed!\n"
     ]
    }
   ],
   "source": [
    "# インスタンスをclfとして作成\n",
    "clf = NameClassifier()\n",
    "# 学習データを入力し、学習させる。\n",
    "clf.train(x_train, y_train)"
   ]
  },
  {
   "cell_type": "markdown",
   "metadata": {},
   "source": [
    "## モデル評価\n",
    "\n",
    "ここでは先程作成したテスト用データを用いてモデルを評価します。分類問題なので評価指標は\n",
    "- 正解率(Accuracy): 予測したデータのうちどれくらいが正解だったか（国籍に関わらず）\n",
    "- 適合率(Precision): 日本名と予測した名前のうち、どれくらいが実際に日本名だったか\n",
    "- 再現率(Recall): 実際の日本名のうち、どれくらいを日本名として予測できたか\n",
    "\n",
    "このモジュールでは、`.evaluate(x_test, y_test)`にテスト用データとラベルを入力することで評価出来ます。\n",
    "- `x_test`: テスト用名前データ\n",
    "- `y_test`: テスト用ラベルデータ"
   ]
  },
  {
   "cell_type": "code",
   "execution_count": 10,
   "metadata": {},
   "outputs": [
    {
     "name": "stdout",
     "output_type": "stream",
     "text": [
      "正解率：99.79124999999999%\n",
      "適合率：1.0\n",
      "再現率：0.9958322934863988\n"
     ]
    }
   ],
   "source": [
    "# モデル評価、３つの値を含んだディクショナリを返す。\n",
    "model_eval = clf.evaluate(x_test, y_test)\n",
    "st = '正解率：{}%\\n適合率：{}\\n再現率：{}'.format(model_eval['accuracy']*100, model_eval['precision'], model_eval['recall'])\n",
    "print(st)"
   ]
  },
  {
   "cell_type": "markdown",
   "metadata": {},
   "source": [
    "**学習済みの名前に関しては分類精度は高いですが、未知のデータ、名前は明らかに日本人名でも外国人判定されてしまうようです。更にバラエティのあるデータで学習させることで向上できるかもしれません。**\n",
    "\n",
    "\n",
    "## モデルを保存する\n",
    "\n",
    "このモジュールはモデル/クラスをPythonのPickleファイルとして保存します。ファイル名を指定する際は拡張子が`.pickle`になっているかを確認してください。\n",
    "`.save_model(file_name)`を使い、\n",
    "- `file_name`: 保存するモデルのパスも含めたファイル名。"
   ]
  },
  {
   "cell_type": "code",
   "execution_count": 11,
   "metadata": {},
   "outputs": [],
   "source": [
    "# モデルを保存、ファイルパス、ファイル名、拡張子を忘れずに。\n",
    "clf.save_model('model/trained_model.pickle')"
   ]
  },
  {
   "cell_type": "markdown",
   "metadata": {},
   "source": [
    "## 学習済みのモデルを使う\n",
    "\n",
    "上で保存したモデルを読み込み、先程のテストデータを用いて評価、また予測してみましょう。\n",
    "\n",
    "予測する際は`.predict()`を使い、名前データをリストかPandasのSeriesとして入力し、出力は\n",
    "- 1: 日本名と予測\n",
    "- 0: それ以外と予測\n",
    "\n",
    "をリストとして返します。\n",
    "\n",
    "* `.predict(names)`\n",
    "    - `names`: 判別したい名前データ、リストかPandasのSeries。"
   ]
  },
  {
   "cell_type": "code",
   "execution_count": 12,
   "metadata": {},
   "outputs": [
    {
     "name": "stdout",
     "output_type": "stream",
     "text": [
      "loading the model\n",
      "正解率：99.79124999999999%\n",
      "適合率：1.0\n",
      "再現率：0.9958322934863988\n",
      "[0, 0, 1]\n"
     ]
    }
   ],
   "source": [
    "# モデルを読み込む。\n",
    "trained_clf = NameClassifier.load_model('model/trained_model.pickle')\n",
    "# モデルを評価\n",
    "model_eval = trained_clf.evaluate(x_test, y_test)\n",
    "st = '正解率：{}%\\n適合率：{}\\n再現率：{}'.format(model_eval['accuracy']*100, model_eval['precision'], model_eval['recall'])\n",
    "print(st)\n",
    "\n",
    "# 他の名前で予測してみる\n",
    "names = ['John Wick', '문　재인', '佐藤　たける']\n",
    "print(trained_clf.predict(names))"
   ]
  }
 ],
 "metadata": {
  "kernelspec": {
   "display_name": "Python 3",
   "language": "python",
   "name": "python3"
  },
  "language_info": {
   "codemirror_mode": {
    "name": "ipython",
    "version": 3
   },
   "file_extension": ".py",
   "mimetype": "text/x-python",
   "name": "python",
   "nbconvert_exporter": "python",
   "pygments_lexer": "ipython3",
   "version": "3.7.3"
  }
 },
 "nbformat": 4,
 "nbformat_minor": 2
}
